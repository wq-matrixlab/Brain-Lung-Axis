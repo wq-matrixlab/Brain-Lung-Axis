{
 "cells": [
  {
   "cell_type": "code",
   "execution_count": null,
   "metadata": {},
   "outputs": [],
   "source": [
    "import numpy as np   \n",
    "import pandas as pd\n",
    "import anndata as ad \n",
    "import scanpy as sc\n",
    "import seaborn as sb\n",
    "import matplotlib.pyplot as plt\n",
    "from scipy import sparse"
   ]
  },
  {
   "cell_type": "markdown",
   "metadata": {},
   "source": [
    "### Load Raw Expression Matrix"
   ]
  },
  {
   "cell_type": "code",
   "execution_count": null,
   "metadata": {},
   "outputs": [],
   "source": [
    "adata = sc.read_h5('immnue.h5')"
   ]
  },
  {
   "cell_type": "code",
   "execution_count": null,
   "metadata": {},
   "outputs": [],
   "source": [
    "marker_genes_list = [\n",
    "    'Cd3d', 'Cd3e', 'Trac', 'Cd4',\n",
    "    'Cd8a',\n",
    "    'Gzma', 'Eomes', 'Prf1', 'Ncr1', 'Klrb1c',\n",
    "    'Zbtb16',\n",
    "    'Trdc', 'Cd7', 'Nkg7', 'Trdv4', 'Trgv2',\n",
    "    'Ifng', 'Tbx21',\n",
    "    'Foxp3',\n",
    "    'Rorc', 'Il17a',\n",
    "    'Klrg1', 'Calca',\n",
    "    'Ccr6', 'Il22',\n",
    "    'Cd79a', 'Cd79b', 'Cd19',\n",
    "    'Ighd', 'Ighm',\n",
    "    'Sdc1', 'Igha', 'Xbp1',\n",
    "    'H2-Ab1', 'Cst3', 'Mdh2',\n",
    "    'Itgae', 'Xcr1', 'Itgax',\n",
    "    'Itgam',\n",
    "    'Ccr7',\n",
    "    'Siglech', 'Bst2',\n",
    "    'Fcer1g', 'Csf1r', 'Lyz2', 'Fcgr1', 'Cd68',\n",
    "    'Siglecf', 'Mrc1', 'Adgre1', 'Cd86',\n",
    "    'Ly6c1',\n",
    "    'Il1b', 'Nos2', 'Cd80', 'Tnf', 'Il6', 'Cxcl10', 'Il12a',\n",
    "    'Arg1', 'Il10', 'C1qa', 'C1qb', 'C1qc', 'Cd163',\n",
    "    'Cd14', 'Ly6c2', 'Cx3cr1', 'Ceacam1', 'Ccr2', 'Slamf1',\n",
    "    'Kit', 'Cd200r3',\n",
    "    'S100a8', 'S100a9', 'Ly6g', 'Cxcr2', 'Mpo'\n",
    "]\n",
    "ax = sc.pl.dotplot(adata, marker_genes_list, groupby='leiden',dendrogram=True, swap_axes=False\n",
    "                   )"
   ]
  },
  {
   "cell_type": "markdown",
   "metadata": {},
   "source": [
    "#### Subsetting Cell Populations by Leiden Clusters"
   ]
  },
  {
   "cell_type": "code",
   "execution_count": 167,
   "metadata": {},
   "outputs": [],
   "source": [
    "adataTcell = adata[np.in1d(adata.obs['leiden'],['3','6','9'])].copy()\n",
    "adataNeutrophils = adata[np.in1d(adata.obs['leiden'],['0','1','11'])].copy()\n",
    "adataAPC = adata[np.in1d(adata.obs['leiden'],['2','4','8','5','10'])].copy()\n",
    "adataB = adata[np.in1d(adata.obs['leiden'],['7'])].copy()"
   ]
  },
  {
   "cell_type": "code",
   "execution_count": null,
   "metadata": {},
   "outputs": [],
   "source": [
    "sc.tl.leiden(adataTcell,resolution=1) \n",
    "sc.pl.umap(adataTcell, color=['leiden'])\n",
    "sc.pl.umap(adataTcell, color=['leiden'],legend_loc='on data', legend_fontsize=10)"
   ]
  },
  {
   "cell_type": "code",
   "execution_count": null,
   "metadata": {},
   "outputs": [],
   "source": [
    "marker_genes_T= [\n",
    "    'Cd3d', 'Cd3e', 'Trac', 'Cd4',\n",
    "    'Cd8a',\n",
    "    'Gzma', 'Eomes', 'Prf1', 'Ncr1', 'Klrb1c',\n",
    "    'Zbtb16',\n",
    "    'Trdc', 'Cd7', 'Nkg7', 'Trdv4', 'Trgv2',\n",
    "    'Ifng', 'Tbx21',\n",
    "    'Foxp3',\n",
    "    'Rorc', 'Il17a',\n",
    "    'Klrg1', 'Calca',\n",
    "    'Ccr6', 'Il22'\n",
    "]\n",
    "ax = sc.pl.dotplot(adata, marker_genes_T, groupby='leiden',dendrogram=False, swap_axes=False, \n",
    "                   standard_scale=\"var\",cmap='PiYG_r', \n",
    "                      dot_min=0,  \n",
    "                     dot_max=1,  \n",
    "                     vmin=0,  \n",
    "                      vmax=1 )   "
   ]
  },
  {
   "cell_type": "code",
   "execution_count": null,
   "metadata": {},
   "outputs": [],
   "source": [
    "cluster2annotation = {\n",
    "    '0': 'NK',\n",
    "    '1': 'CD4+T',\n",
    "    '2': 'NK',\n",
    "    '3': 'CD4+T',\n",
    "    '4': 'CD8+T',\n",
    "    '5': 'gdT',\n",
    "    '6': 'CD4+T',\n",
    "    '7': 'NK',\n",
    "    '8': 'ILC2',\n",
    "    '9': 'NK',\n",
    "    '10': 'CD4+T',\n",
    "    '11': 'CD8+T',\n",
    "    '12': 'NKT',\n",
    "    '13': 'CD4+T',\n",
    "    '14': 'CD4+T',\n",
    "    '15': 'NK',\n",
    "}\n",
    "adataTcell.obs['cell type'] = adataTcell.obs['leiden'].map(cluster2annotation).astype('category')\n",
    "sc.tl.dendrogram(adataTcell,groupby='leiden')\n",
    "sc.pl.umap(adataTcell, color=['cell type'],legend_loc='on data', legend_fontsize=10)"
   ]
  },
  {
   "cell_type": "code",
   "execution_count": null,
   "metadata": {},
   "outputs": [],
   "source": [
    "marker_genes_neutrophil = [\n",
    "    \"S100a8\", \"S100a9\", \"Fcgr3\", \"Cxcr2\", \"Cd177\", \"Retnlg\", \"Lyz2\", \"Ly6g\",\n",
    "    \"Il1b\", \"Tnf\", \"Cxcl2\", \"Cxcl1\", \"Ccl3\", \"Ccl4\", \"Nfkbiz\", \"Cd63\", \"Mmp8\", \"Saa3\", \"Nos2\",\n",
    "    \"Isg15\", \"Ifit1\", \"Ifit3\", \"Oasl2\", \"Rsad2\", \"Mx1\", \"Irf7\", \"Ifi44\", \"Ifi27l2a\",\n",
    "    \"Mpo\", \"Elane\", \"Prtn3\", \"Lcn2\", \"Camp\", \"Ctsg\", \"Ms4a3\", \"Gfi1\", \"Mki67\",\n",
    "    \"Sell\", \"Fpr1\",\n",
    "    \"Cxcr4\", \"Itgax\", \"Trem1\", \"Bcl2a1b\", \"Cd24a\",\n",
    "    \"Padi4\", \"Tnfaip6\",\n",
    "    \"Arg1\", \"Il10\", \"Cd274\", \"Adrb2\", \"Tgfbi\", \"Slpi\", \"Cxcl10\"\n",
    "]\n",
    "sc.tl.leiden(adataNeutrophils,resolution=0.8) \n",
    "sc.pl.umap(adataNeutrophils, color=['leiden'])\n",
    "sc.pl.umap(adataNeutrophils, color=['leiden'],legend_loc='on data', legend_fontsize=10)"
   ]
  },
  {
   "cell_type": "code",
   "execution_count": null,
   "metadata": {},
   "outputs": [],
   "source": [
    "cluster2annotation = {\n",
    "    '0': 'Classic Neu',\n",
    "    '1': 'Transitional Neu',\n",
    "    '2': 'Classic Neu',\n",
    "    '3': 'Transitional Neu',\n",
    "    '4': 'Inflammatory Neu',\n",
    "        '5': 'Inflammatory Neu',\n",
    "    '6': 'Classic Neu',\n",
    "    '7': 'Classic Neu',\n",
    "    '8': 'Transitional Neu',\n",
    "}\n",
    "adataNeutrophils.obs['cell type'] = adataNeutrophils.obs['leiden'].map(cluster2annotation).astype('category')\n",
    "sc.pl.umap(adataNeutrophils, color=['cell type'],legend_loc='on data', legend_fontsize=10)"
   ]
  },
  {
   "cell_type": "code",
   "execution_count": null,
   "metadata": {},
   "outputs": [],
   "source": [
    "order = ['Ctrl', 'LPS', 'Gq']\n",
    "plt.figure(figsize=(20, 40)) \n",
    "adataNeutrophils.obs['class'] = pd.Categorical(adataNeutrophils.obs['class'], categories=order, ordered=True)\n",
    "tmp = pd.crosstab(adataNeutrophils.obs['class'], adataNeutrophils.obs['cell type'],normalize='index')\n",
    "ax = tmp.plot.bar(stacked=True, width=0.6,edgecolor='none')  \n",
    "ax.legend(loc='upper left', bbox_to_anchor=(2, 2))\n",
    "ax.grid(False)  \n",
    "plt.tight_layout()\n",
    "plt.xticks(rotation=45)\n",
    "plt.savefig('crosstab.pdf')\n",
    "plt.show()"
   ]
  },
  {
   "cell_type": "code",
   "execution_count": null,
   "metadata": {},
   "outputs": [],
   "source": [
    "marker_genes_apc = [\n",
    "    'H2-Ab1', 'Cst3', 'Mdh2', 'Flt3',\n",
    "    'Itgae', 'Xcr1', 'Itgax',\n",
    "    'Itgam',\n",
    "    'Ccr7',\n",
    "    'Siglech', 'Bst2',\n",
    "    'Fcer1g', 'Csf1r', 'Lyz2', 'Fcgr1', 'Cd68',\n",
    "    'Siglecf', 'Mrc1', 'Adgre1', 'Cd86',\n",
    "    'Ly6c1',\n",
    "    'Il1b', 'Nos2', 'Cd80', 'Tnf', 'Il6', 'Cxcl10', 'Il12a',\n",
    "    'Arg1', 'Il10', 'C1qa', 'C1qb', 'C1qc', 'Cd163',\n",
    "    'Cd14', 'Ly6c2', 'Cx3cr1', 'Ceacam1', 'Ccr2', 'Slamf1', 'S100a8', 'S100a9',\n",
    "    'Kit', 'Cd200r3', 'Adrb2',\n",
    "    'Cdh5'\n",
    "]"
   ]
  },
  {
   "cell_type": "code",
   "execution_count": null,
   "metadata": {},
   "outputs": [],
   "source": [
    "sc.tl.leiden(adataAPC,resolution=1) \n",
    "sc.pl.umap(adataAPC, color=['leiden']) \n",
    "sc.pl.umap(adataAPC, color=['leiden'],legend_loc='on data', legend_fontsize=10)"
   ]
  },
  {
   "cell_type": "code",
   "execution_count": null,
   "metadata": {},
   "outputs": [],
   "source": [
    "sc.tl.dendrogram(adataAPC,groupby='leiden')\n",
    "ax = sc.pl.dotplot(adataAPC, marker_genes_apc , groupby='leiden',dendrogram=True, swap_axes=False\n",
    "                   )"
   ]
  },
  {
   "cell_type": "code",
   "execution_count": 82,
   "metadata": {},
   "outputs": [],
   "source": [
    "cluster2annotation = {\n",
    "    '0': 'Inflammatory IMs',\n",
    "    '1': 'AMs',\n",
    "    '2': 'Inflammatory IMs',\n",
    "    '3': 'Regulatory IMs(Cd206+)',\n",
    "    '4': 'Inflammatory IMs',\n",
    "    '5': 'Inflammatory IMs',\n",
    "    '6': 'Monocytes',\n",
    "    '8': 'Regulatory IMs(Ly6C+Arg1+)',\n",
    "    '9': 'AMs',\n",
    "    '12': 'Monocytes',\n",
    "    '14': 'AMs',\n",
    "    '15': 'Regulatory IMs(Cd206+)',\n",
    "        '17': 'Inflammatory IMs',\n",
    "          '10': 'cDC2',\n",
    "              '7': 'cDC1',\n",
    "                 '13': 'Ccr7+DCs',\n",
    "}"
   ]
  },
  {
   "cell_type": "code",
   "execution_count": null,
   "metadata": {},
   "outputs": [],
   "source": [
    "adataAPC.obs['cell type'] = adataAPC.obs['leiden'].map(cluster2annotation).astype('category')\n",
    "sc.pl.umap(adataAPC, color=['cell type'],legend_loc='on data', legend_fontsize=10)"
   ]
  },
  {
   "cell_type": "code",
   "execution_count": null,
   "metadata": {},
   "outputs": [],
   "source": [
    "adataMac = adataAPC[np.in1d(adataAPC.obs['cell type'],['Inflammatory IMs','AMs','Regulatory IMs(Cd206+)','Regulatory IMs(Ly6C+Arg1+)',\n",
    "                            'Monocytes',])].copy()\n",
    "sc.pl.umap(adataMac, color=['cell type'],legend_loc='on data', legend_fontsize=10)"
   ]
  },
  {
   "cell_type": "code",
   "execution_count": 88,
   "metadata": {},
   "outputs": [],
   "source": [
    "adataDC = adataAPC[np.in1d(adataAPC.obs['cell type'],['cDC2',\n",
    "                            'cDC1','Ccr7+DCs',])].copy()"
   ]
  },
  {
   "cell_type": "markdown",
   "metadata": {},
   "source": [
    "#### Visualizing Cell Type Proportions Across Conditions"
   ]
  },
  {
   "cell_type": "code",
   "execution_count": null,
   "metadata": {},
   "outputs": [],
   "source": [
    "order = ['Ctrl', 'LPS', 'Gq']\n",
    "plt.figure(figsize=(20, 40)) \n",
    "adataMac.obs['class'] = pd.Categorical(adataMac.obs['class'], categories=order, ordered=True)\n",
    "tmp = pd.crosstab(adataMac.obs['class'], adataMac.obs['cell type'],normalize='index')\n",
    "ax = tmp.plot.bar(stacked=True, width=0.6,edgecolor='none')  \n",
    "ax.legend(loc='upper left', bbox_to_anchor=(2, 2))\n",
    "ax.grid(False)  \n",
    "plt.tight_layout()\n",
    "plt.xticks(rotation=45)\n",
    "plt.savefig('crosstab.pdf')\n",
    "plt.show()"
   ]
  },
  {
   "cell_type": "code",
   "execution_count": null,
   "metadata": {},
   "outputs": [],
   "source": [
    "sc.tl.dendrogram(adataAPC,groupby='cell type')\n",
    "ax = sc.pl.dotplot(adataAPC, marker_genes_apc, groupby='cell type',dendrogram=True, swap_axes=False\n",
    "                   )"
   ]
  },
  {
   "cell_type": "code",
   "execution_count": null,
   "metadata": {},
   "outputs": [],
   "source": [
    "\n",
    "sc.tl.leiden(adataB,resolution=0.5) \n",
    "sc.pl.umap(adataB, color=['leiden'])\n",
    "sc.pl.umap(adataB, color=['leiden'],legend_loc='on data', legend_fontsize=10)\n",
    "marker_genes_B = [\n",
    "    'Cd79a', 'Cd79b', 'Cd19',\n",
    "    'Ighd', 'Ighm',\n",
    "    'Sdc1', 'Igha', 'Xbp1'\n",
    "]\n",
    "sc.tl.dendrogram(adataB,groupby='leiden')\n",
    "ax = sc.pl.dotplot(adataB, marker_genes_B , groupby='leiden',dendrogram=True, swap_axes=False\n",
    "                   )"
   ]
  },
  {
   "cell_type": "code",
   "execution_count": null,
   "metadata": {},
   "outputs": [],
   "source": [
    "cluster2annotation = {\n",
    "    '0': 'B',\n",
    "    '1': 'B',\n",
    "    '2': 'B',\n",
    "    '3': 'B',\n",
    "    '4': 'Plasma',\n",
    "    '5': 'B',\n",
    " }\n",
    "adataB.obs['cell type'] = adataB.obs['leiden'].map(cluster2annotation).astype('category')\n",
    "sc.pl.umap(adataB, color=['cell type'],legend_loc='on data', legend_fontsize=10)"
   ]
  },
  {
   "cell_type": "code",
   "execution_count": null,
   "metadata": {},
   "outputs": [],
   "source": [
    "import anndata as ad   \n",
    "adata_list=[adataTcell,adataNeutrophils,adataMac,adataB,adataDC]\n",
    "adata = ad.concat(adata_list, join='inner', merge='unique')\n",
    "sc.pl.umap(adata, color=['cell type'],legend_loc='on data', legend_fontsize=6,save='celltype.pdf')"
   ]
  }
 ],
 "metadata": {
  "kernelspec": {
   "display_name": "scanpy",
   "language": "python",
   "name": "python3"
  },
  "language_info": {
   "codemirror_mode": {
    "name": "ipython",
    "version": 3
   },
   "file_extension": ".py",
   "mimetype": "text/x-python",
   "name": "python",
   "nbconvert_exporter": "python",
   "pygments_lexer": "ipython3",
   "version": "3.8.19"
  }
 },
 "nbformat": 4,
 "nbformat_minor": 2
}
