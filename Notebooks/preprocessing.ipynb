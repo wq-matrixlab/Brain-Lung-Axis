{
 "cells": [
  {
   "cell_type": "markdown",
   "metadata": {},
   "source": [
    "## Single-cell RNA-seq Analysis Workflow\n",
    "\n",
    "This notebook presents a pipeline for analyzing single-cell RNA sequencing (scRNA-seq) data using the `Scanpy` framework. Below are the essential Python packages that will be used throughout the analysis.\n",
    "\n",
    "### Import Required Libraries"
   ]
  },
  {
   "cell_type": "code",
   "execution_count": null,
   "metadata": {},
   "outputs": [],
   "source": [
    "import numpy as np   \n",
    "import pandas as pd\n",
    "import anndata as ad \n",
    "import scanpy as sc\n",
    "import seaborn as sb\n",
    "import matplotlib.pyplot as plt\n",
    "from scipy import sparse"
   ]
  },
  {
   "cell_type": "markdown",
   "metadata": {},
   "source": [
    "### Load Raw Expression Matrix"
   ]
  },
  {
   "cell_type": "code",
   "execution_count": null,
   "metadata": {},
   "outputs": [],
   "source": [
    "adata = sc.read_h5('raw_matrix.h5')"
   ]
  },
  {
   "cell_type": "markdown",
   "metadata": {},
   "source": [
    "### Quality Control (QC) Metrics Calculation and Visualization"
   ]
  },
  {
   "cell_type": "code",
   "execution_count": null,
   "metadata": {},
   "outputs": [],
   "source": [
    "adata.var['mt'] = adata.var_names.str.startswith('mt-') \n",
    "sc.pp.calculate_qc_metrics(adata, qc_vars=['mt'], percent_top=None, log1p=False, inplace=True)\n",
    "sc.pl.violin(adata, ['n_genes_by_counts', 'total_counts', 'pct_counts_mt'],\n",
    "             jitter=2, multi_panel=True)\n",
    "sc.pl.scatter(adata, x='total_counts', y='pct_counts_mt')\n",
    "\n",
    "sc.pl.scatter(adata, x='total_counts', y='n_genes_by_counts')\n"
   ]
  },
  {
   "cell_type": "code",
   "execution_count": null,
   "metadata": {},
   "outputs": [],
   "source": [
    "sc.pp.filter_cells(adata, min_genes=300) \n",
    "sc.pp.filter_genes(adata, min_cells=3) \n",
    "adata = adata[adata.obs.n_genes_by_counts < 4000, :]\n",
    "adata = adata[adata.obs.total_counts < 30000, :]\n",
    "adata = adata[adata.obs.pct_counts_mt < 10, :]"
   ]
  },
  {
   "cell_type": "markdown",
   "metadata": {},
   "source": [
    "### Doublet Detection Using Scrublet"
   ]
  },
  {
   "cell_type": "code",
   "execution_count": null,
   "metadata": {},
   "outputs": [],
   "source": [
    "import scrublet as scr\n",
    "scrub = scr.Scrublet(adata.X)\n",
    "doublet_scores, predicted_doublets = scrub.scrub_doublets()\n",
    "adata.obs['doublet_scores'] = doublet_scores\n",
    "adata.obs['predicted_doublets'] = predicted_doublets\n",
    "scrub.plot_histogram()\n",
    "plt.title('Doublet Score Distribution')\n",
    "plt.show()"
   ]
  },
  {
   "cell_type": "code",
   "execution_count": null,
   "metadata": {},
   "outputs": [],
   "source": [
    "threshold = 0.57  \n",
    "adata.obs['predicted_doublets'] = doublet_scores > threshold\n",
    "print(adata.obs['predicted_doublets'].value_counts())\n",
    "adata = adata[adata.obs['predicted_doublets'] == False, :]"
   ]
  },
  {
   "cell_type": "markdown",
   "metadata": {},
   "source": [
    "#### Preserve Raw Counts in `adata.layers`"
   ]
  },
  {
   "cell_type": "code",
   "execution_count": null,
   "metadata": {},
   "outputs": [],
   "source": [
    "adata.layers[\"Raw_counts\"] = adata.X.copy()"
   ]
  },
  {
   "cell_type": "markdown",
   "metadata": {},
   "source": [
    "#### Normalization and Log Transformation"
   ]
  },
  {
   "cell_type": "code",
   "execution_count": null,
   "metadata": {},
   "outputs": [],
   "source": [
    "sc.pp.normalize_total(adata, target_sum=1e4) \n",
    "sc.pp.log1p(adata) "
   ]
  },
  {
   "cell_type": "markdown",
   "metadata": {},
   "source": [
    "#### Identification of Highly Variable Genes and Data Scaling"
   ]
  },
  {
   "cell_type": "code",
   "execution_count": null,
   "metadata": {},
   "outputs": [],
   "source": [
    "sc.pp.highly_variable_genes(adata, min_mean=0.0125, max_mean=3, min_disp=0.5,batch_key='batch',n_top_genes=2000)\n",
    "sc.pl.highly_variable_genes(adata)\n",
    "adata.raw = adata\n",
    "adata = adata[:, adata.var.highly_variable] \n",
    "sc.pp.regress_out(adata, ['total_counts', 'pct_counts_mt'])  \n",
    "sc.pp.scale(adata, max_value=10) "
   ]
  },
  {
   "cell_type": "markdown",
   "metadata": {},
   "source": [
    "#### Principal Component Analysis (PCA)"
   ]
  },
  {
   "cell_type": "code",
   "execution_count": null,
   "metadata": {},
   "outputs": [],
   "source": [
    "sc.tl.pca(adata, svd_solver='arpack')\n",
    "sc.pl.pca(adata, color='Ptprc')\n",
    "sc.pl.pca_variance_ratio(adata, log=True, n_pcs=50)"
   ]
  },
  {
   "cell_type": "code",
   "execution_count": null,
   "metadata": {},
   "outputs": [],
   "source": [
    "import harmonypy as hm\n",
    "dfd = ['batch']\n",
    "harmony_out = hm.run_harmony(adata.obsm['X_pca'], adata.obs,dfd, max_iter_harmony = 50)  \n",
    "adata.obsm['X_pca_harmony'] = harmony_out.Z_corr.T"
   ]
  },
  {
   "cell_type": "markdown",
   "metadata": {},
   "source": [
    "#### Clustering and Visualization with UMAP\n",
    "\n",
    "After dimensionality reduction, we perform clustering and visualize the cell populations using UMAP.\n"
   ]
  },
  {
   "cell_type": "code",
   "execution_count": null,
   "metadata": {},
   "outputs": [],
   "source": [
    "sc.pp.neighbors(adata,use_rep='X_pca_harmony', n_neighbors=15, n_pcs=40) \n",
    "sc.tl.umap(adata)\n",
    "sc.pl.umap(adata,color=['class'])\n",
    "sc.tl.leiden(adata,resolution=1) \n",
    "sc.pl.umap(adata, color=['leiden'])\n",
    "sc.pl.umap(adata, color=['leiden'],legend_loc='on data')"
   ]
  },
  {
   "cell_type": "code",
   "execution_count": 58,
   "metadata": {},
   "outputs": [],
   "source": [
    "marker_genes_dict = {\n",
    " 'Immnue': ['Ptprc','Itgam','Cd3e','Gata3','Trdc'],\n",
    " 'Fibroblast': ['Vim','Col1a1','Acta2','Pdpn'],\n",
    " 'Endo': ['Pecam1','Cdh5'],\n",
    " 'Epi': ['Epcam'],\n",
    "  'Glia': ['Sox10'],\n",
    " }"
   ]
  },
  {
   "cell_type": "code",
   "execution_count": null,
   "metadata": {},
   "outputs": [],
   "source": [
    "ax = sc.pl.dotplot(adata, marker_genes_dict, groupby='leiden',dendrogram=True, swap_axes=False, \n",
    "                   standard_scale=\"var\",cmap='PiYG_r', \n",
    "                      dot_min=0,  \n",
    "                     dot_max=1,  \n",
    "                     vmin=0,  \n",
    "                      vmax=1 )  "
   ]
  },
  {
   "cell_type": "markdown",
   "metadata": {},
   "source": [
    "#### Remove Unwanted Clusters and Re-cluster"
   ]
  },
  {
   "cell_type": "code",
   "execution_count": null,
   "metadata": {},
   "outputs": [],
   "source": [
    "clusters_to_remove = ['7', '8', '17', '22', '27', '28', '29', '30', '31']\n",
    "adata = adata[~adata.obs['leiden'].isin(clusters_to_remove)].copy()\n",
    "sc.tl.leiden(adata,resolution=1) \n",
    "sc.pl.umap(adata, color=['leiden'])\n",
    "sc.pl.umap(adata, color=['leiden'],legend_loc='on data')\n",
    "sc.tl.dendrogram(adata,groupby='leiden')\n",
    "ax = sc.pl.dotplot(adata, marker_genes_dict, groupby='leiden',dendrogram=True, swap_axes=False, \n",
    "                   standard_scale=\"var\",cmap='PiYG_r', \n",
    "                      dot_min=0,  \n",
    "                     dot_max=1,   \n",
    "                     vmin=0,  \n",
    "                      vmax=1 )   "
   ]
  },
  {
   "cell_type": "code",
   "execution_count": null,
   "metadata": {},
   "outputs": [],
   "source": [
    "clusters_to_remove = ['3', '10', '11', '14', '17', '19']\n",
    "adata = adata[~adata.obs['leiden'].isin(clusters_to_remove)].copy()"
   ]
  },
  {
   "cell_type": "code",
   "execution_count": null,
   "metadata": {},
   "outputs": [],
   "source": [
    "adata = adata.raw.to_adata()  "
   ]
  },
  {
   "cell_type": "code",
   "execution_count": null,
   "metadata": {},
   "outputs": [],
   "source": [
    "sc.pp.highly_variable_genes(adata, min_mean=0.0125, max_mean=3, min_disp=0.5,n_top_genes=2500)\n",
    "adata.raw = adata  \n",
    "adata = adata[:, adata.var.highly_variable] "
   ]
  },
  {
   "cell_type": "markdown",
   "metadata": {},
   "source": [
    "####  Batch Effect Correction with Harmony"
   ]
  },
  {
   "cell_type": "code",
   "execution_count": null,
   "metadata": {},
   "outputs": [],
   "source": [
    "sc.pp.regress_out(adata, ['total_counts', 'pct_counts_mt']) \n",
    "sc.pp.scale(adata, max_value=10) \n",
    "sc.tl.pca(adata, svd_solver='arpack')\n",
    "sc.pl.pca(adata, color='Ptprc')\n",
    "sc.pl.pca_variance_ratio(adata, log=True, n_pcs=50)\n",
    "import harmonypy as hm\n",
    "dfd = ['batch']\n",
    "harmony_out = hm.run_harmony(adata.obsm['X_pca'], adata.obs,dfd, max_iter_harmony = 50) \n",
    "adata.obsm['X_pca_harmony'] = harmony_out.Z_corr.T"
   ]
  },
  {
   "cell_type": "markdown",
   "metadata": {},
   "source": [
    "#### Dimensionality Reduction, Diffusion Map, and Clustering"
   ]
  },
  {
   "cell_type": "code",
   "execution_count": null,
   "metadata": {},
   "outputs": [],
   "source": [
    "sc.pp.neighbors(adata,use_rep='X_pca_harmony', n_neighbors=15, n_pcs=25)\n",
    "sc.tl.umap(adata, min_dist=0.4, spread=2,random_state=57)\n",
    "sc.pl.umap(adata, color='S100a9', return_fig=True, show=False)\n",
    "sc.tl.diffmap(adata)\n",
    "sc.pl.diffmap(adata, color='S100a9')\n",
    "adata = adata.raw.to_adata()  \n",
    "adata.obs['n_expressed_genes'] = (adata.X > 0).sum(axis=1).A1\n",
    "sc.tl.leiden(adata,resolution=0.3) \n",
    "sc.pl.umap(adata, color=['leiden'])\n",
    "sc.pl.umap(adata, color=['leiden'],legend_loc='on data', legend_fontsize=10)"
   ]
  }
 ],
 "metadata": {
  "kernelspec": {
   "display_name": "scanpy",
   "language": "python",
   "name": "python3"
  },
  "language_info": {
   "codemirror_mode": {
    "name": "ipython",
    "version": 3
   },
   "file_extension": ".py",
   "mimetype": "text/x-python",
   "name": "python",
   "nbconvert_exporter": "python",
   "pygments_lexer": "ipython3",
   "version": "3.8.19"
  }
 },
 "nbformat": 4,
 "nbformat_minor": 2
}
